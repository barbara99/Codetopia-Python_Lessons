{
  "nbformat": 4,
  "nbformat_minor": 0,
  "metadata": {
    "colab": {
      "name": "Assignment 5 - Functions.ipynb",
      "provenance": [],
      "collapsed_sections": [],
      "include_colab_link": true
    },
    "kernelspec": {
      "name": "python3",
      "display_name": "Python 3"
    }
  },
  "cells": [
    {
      "cell_type": "markdown",
      "metadata": {
        "id": "view-in-github",
        "colab_type": "text"
      },
      "source": [
        "<a href=\"https://colab.research.google.com/github/barbara99/Codetopia-Python_Lessons/blob/main/Assignment_5_Functions.ipynb\" target=\"_parent\"><img src=\"https://colab.research.google.com/assets/colab-badge.svg\" alt=\"Open In Colab\"/></a>"
      ]
    },
    {
      "cell_type": "markdown",
      "metadata": {
        "id": "2qdHbV6LKCdn"
      },
      "source": [
        "# 1. BUILT-IN FUNCTIONS"
      ]
    },
    {
      "cell_type": "markdown",
      "metadata": {
        "id": "CvaYA-XocFOc"
      },
      "source": [
        "**MINI CHALLENGE #1:**\n",
        "- **Write a code that takes in 2 lists x = [-1 -4 -7] and y = [-3 7 4] and  calculates the absolute sum of all its elements |x+y|**\n"
      ]
    },
    {
      "cell_type": "code",
      "metadata": {
        "id": "DMYqI7CBekNI"
      },
      "source": [
        ""
      ],
      "execution_count": null,
      "outputs": []
    },
    {
      "cell_type": "markdown",
      "metadata": {
        "id": "AHrwK11xMArY"
      },
      "source": [
        "# 2. FUNCTIONS"
      ]
    },
    {
      "cell_type": "markdown",
      "metadata": {
        "id": "DB1zlBEEfDlA"
      },
      "source": [
        "**MINI CHALLENGE #2:** \n",
        "- **Write a code that takes in two inputs (number of items bought and prices) from the user and calculate the total account balance**"
      ]
    },
    {
      "cell_type": "code",
      "metadata": {
        "id": "s7fbv5eApK97"
      },
      "source": [
        ""
      ],
      "execution_count": null,
      "outputs": []
    },
    {
      "cell_type": "markdown",
      "metadata": {
        "id": "lBj4QkQEpLkX"
      },
      "source": [
        "# 3. LAMBDA EXPRESSIONS "
      ]
    },
    {
      "cell_type": "markdown",
      "metadata": {
        "id": "KTRBKK97fQGG"
      },
      "source": [
        "**MINI CHALLENGE #3:**\n",
        "- **Repeat mini challenge #2 (Write a code that takes in two inputs from the user and calculates the total) using lambda expressions instead**"
      ]
    },
    {
      "cell_type": "code",
      "metadata": {
        "id": "jz5bvTOmuHhG"
      },
      "source": [
        ""
      ],
      "execution_count": null,
      "outputs": []
    },
    {
      "cell_type": "markdown",
      "metadata": {
        "id": "S8pekOcjKF6H"
      },
      "source": [
        "# 4. MAP "
      ]
    },
    {
      "cell_type": "markdown",
      "metadata": {
        "id": "Dj4Wcbr1gLo8"
      },
      "source": [
        "**MINI CHALLENGE #4:**\n",
        "- **Write a function that takes an argument and return its cubic value**\n",
        "- **Define a list of integers ranging from -10 to 10** \n",
        "- **Apply the function to the entire list and generate a new output list** \n"
      ]
    },
    {
      "cell_type": "code",
      "metadata": {
        "id": "pqXiuFVxvU18"
      },
      "source": [
        ""
      ],
      "execution_count": null,
      "outputs": []
    },
    {
      "cell_type": "markdown",
      "metadata": {
        "id": "BtAxpyeGKGA1"
      },
      "source": [
        "# 5. FILTER\n"
      ]
    },
    {
      "cell_type": "markdown",
      "metadata": {
        "id": "JZIiCmyvh7EW"
      },
      "source": [
        "**MINI CHALLENGE #5:**\n",
        "- **Write a code from the user that takes in a range (upper and lower bounds) and returns a list of positive and even numbers only** \n"
      ]
    },
    {
      "cell_type": "code",
      "metadata": {
        "id": "4JDq7Y04ve0S"
      },
      "source": [
        ""
      ],
      "execution_count": null,
      "outputs": []
    }
  ]
}