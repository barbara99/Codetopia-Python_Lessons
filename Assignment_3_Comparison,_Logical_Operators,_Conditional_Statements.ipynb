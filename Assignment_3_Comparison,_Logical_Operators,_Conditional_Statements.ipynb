{
  "nbformat": 4,
  "nbformat_minor": 0,
  "metadata": {
    "colab": {
      "name": "Assignment 3 - Comparison, Logical Operators, Conditional Statements.ipynb",
      "provenance": [],
      "collapsed_sections": [],
      "include_colab_link": true
    },
    "kernelspec": {
      "name": "python3",
      "display_name": "Python 3"
    }
  },
  "cells": [
    {
      "cell_type": "markdown",
      "metadata": {
        "id": "view-in-github",
        "colab_type": "text"
      },
      "source": [
        "<a href=\"https://colab.research.google.com/github/barbara99/Codetopia-Python_Lessons/blob/main/Assignment_3_Comparison%2C_Logical_Operators%2C_Conditional_Statements.ipynb\" target=\"_parent\"><img src=\"https://colab.research.google.com/assets/colab-badge.svg\" alt=\"Open In Colab\"/></a>"
      ]
    },
    {
      "cell_type": "markdown",
      "metadata": {
        "id": "CV9YCHsGtAP5"
      },
      "source": [
        "# 1. COMPARISON OPERATORS\n"
      ]
    },
    {
      "cell_type": "markdown",
      "metadata": {
        "id": "eNyKRJob4Xlo"
      },
      "source": [
        "**MINI CHALLENGE #1:**\n",
        "- **Without executing the code cell, What will this code generate?**\n",
        "\n",
        "```\n",
        "number_of_males = 15\n",
        "number_of_females = 10\n",
        "\n",
        "print(number_of_males == number_of_females) \n",
        "print(number_of_males != number_of_females) \n",
        "print(number_of_males > number_of_females)\n",
        "print(number_of_males < number_of_females) \n",
        "```\n"
      ]
    },
    {
      "cell_type": "code",
      "metadata": {
        "id": "-vRyMcIhlVPg"
      },
      "source": [
        ""
      ],
      "execution_count": null,
      "outputs": []
    },
    {
      "cell_type": "markdown",
      "metadata": {
        "id": "4ElLliXmvffI"
      },
      "source": [
        "# 2. LOGICAL OPERATORS"
      ]
    },
    {
      "cell_type": "markdown",
      "metadata": {
        "id": "vjvXsd7ezN4y"
      },
      "source": [
        "**MINI CHALLENGE #2:**\n",
        "- **Without executing the code cell, What will these two lines of code generate?**\n",
        "\n",
        "```\n",
        "print('PYTHON'!='PYTHON' and (10 > 3) and (20 == 20)) \n",
        "```\n",
        "\n",
        "```\n",
        "print('Python'!='PYTHON' or (16 > 20) or (25 == 25)) \n",
        "```\n"
      ]
    },
    {
      "cell_type": "code",
      "metadata": {
        "id": "4u7cWLq15VZt"
      },
      "source": [
        ""
      ],
      "execution_count": null,
      "outputs": []
    },
    {
      "cell_type": "markdown",
      "metadata": {
        "id": "GVMXs0iZ0xJp"
      },
      "source": [
        "**MINI CHALLENGE #3:**\n",
        "- **Without executing the code cell, What will these two lines of code generate?**\n",
        "\n",
        "```\n",
        "a = 5\n",
        "b = 3.5\n",
        "\n",
        "print(a == b or a != b) \n",
        "print(a == b and a != b) \n",
        "```\n",
        "\n"
      ]
    },
    {
      "cell_type": "code",
      "metadata": {
        "id": "xA9pXas-5WJB"
      },
      "source": [
        ""
      ],
      "execution_count": null,
      "outputs": []
    },
    {
      "cell_type": "markdown",
      "metadata": {
        "id": "STR2UADaxtHC"
      },
      "source": [
        "# 3. CONDITIONAL STATEMENTS"
      ]
    },
    {
      "cell_type": "markdown",
      "metadata": {
        "id": "uY__uNx0MddW"
      },
      "source": [
        "- A simple if-else statement is written in Python as follows:\n",
        "\n",
        "```\n",
        "if condition:\n",
        "  statement #1\n",
        "else:\n",
        "  statement #2\n",
        "```\n",
        "\n",
        "- If the condition is true, execute the first indented statement\n",
        "- if the condition is not true, then execute the else indented statements. \n",
        "- Note that Python uses indentation (whitespace) to indicate code sections and scope."
      ]
    },
    {
      "cell_type": "markdown",
      "metadata": {
        "id": "E9b_qCZ12Baz"
      },
      "source": [
        "**MINI CHALLENGE #4:**\n",
        "- **Write a code that takes a number from the user and indicates if it's positive or negative**"
      ]
    },
    {
      "cell_type": "code",
      "metadata": {
        "id": "I4-RpDvp2kHG"
      },
      "source": [
        ""
      ],
      "execution_count": null,
      "outputs": []
    },
    {
      "cell_type": "markdown",
      "metadata": {
        "id": "OnJwHMUe2Ztp"
      },
      "source": [
        "**MINI CHALLENGE #5:**\n",
        "- **Write a code that takes a number from the user and checks if the number is divisible by 3 but is not a multiple of 7**"
      ]
    },
    {
      "cell_type": "code",
      "metadata": {
        "id": "KHv409N93OjP"
      },
      "source": [
        ""
      ],
      "execution_count": null,
      "outputs": []
    },
    {
      "cell_type": "markdown",
      "metadata": {
        "id": "bMs3OKSo29_D"
      },
      "source": [
        "**MINI CHALLENGE #6:** \n",
        "- **Write a code that takes a number from the user and indicate if the number is even or odd**"
      ]
    },
    {
      "cell_type": "code",
      "metadata": {
        "id": "RaDyZQqC28Ya"
      },
      "source": [
        ""
      ],
      "execution_count": null,
      "outputs": []
    }
  ]
}